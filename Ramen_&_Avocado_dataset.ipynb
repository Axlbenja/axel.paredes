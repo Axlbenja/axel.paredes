{
  "nbformat": 4,
  "nbformat_minor": 0,
  "metadata": {
    "colab": {
      "provenance": [],
      "authorship_tag": "ABX9TyO9teJ6MNV74NY5UVJMiAu3",
      "include_colab_link": true
    },
    "kernelspec": {
      "name": "python3",
      "display_name": "Python 3"
    },
    "language_info": {
      "name": "python"
    }
  },
  "cells": [
    {
      "cell_type": "markdown",
      "metadata": {
        "id": "view-in-github",
        "colab_type": "text"
      },
      "source": [
        "<a href=\"https://colab.research.google.com/github/Axlbenja/axel.paredes/blob/main/Ramen_%26_Avocado_dataset.ipynb\" target=\"_parent\"><img src=\"https://colab.research.google.com/assets/colab-badge.svg\" alt=\"Open In Colab\"/></a>"
      ]
    },
    {
      "cell_type": "code",
      "execution_count": 1,
      "metadata": {
        "colab": {
          "base_uri": "https://localhost:8080/"
        },
        "id": "k7mx3SQ7dc83",
        "outputId": "d44727c3-b9e7-47e4-8c48-6b2d6075b958"
      },
      "outputs": [
        {
          "output_type": "stream",
          "name": "stdout",
          "text": [
            "Requirement already satisfied: scikit-learn in /usr/local/lib/python3.11/dist-packages (1.6.1)\n",
            "Requirement already satisfied: imbalanced-learn in /usr/local/lib/python3.11/dist-packages (0.13.0)\n",
            "Requirement already satisfied: numpy>=1.19.5 in /usr/local/lib/python3.11/dist-packages (from scikit-learn) (1.26.4)\n",
            "Requirement already satisfied: scipy>=1.6.0 in /usr/local/lib/python3.11/dist-packages (from scikit-learn) (1.13.1)\n",
            "Requirement already satisfied: joblib>=1.2.0 in /usr/local/lib/python3.11/dist-packages (from scikit-learn) (1.4.2)\n",
            "Requirement already satisfied: threadpoolctl>=3.1.0 in /usr/local/lib/python3.11/dist-packages (from scikit-learn) (3.5.0)\n",
            "Requirement already satisfied: sklearn-compat<1,>=0.1 in /usr/local/lib/python3.11/dist-packages (from imbalanced-learn) (0.1.3)\n"
          ]
        }
      ],
      "source": [
        "!pip install scikit-learn imbalanced-learn\n",
        "\n",
        "import pandas as pd\n",
        "import numpy as np\n",
        "from sklearn.preprocessing import StandardScaler, LabelEncoder\n",
        "from sklearn.model_selection import train_test_split\n",
        "from sklearn.linear_model import LogisticRegression\n",
        "from sklearn.metrics import classification_report\n",
        "from imblearn.over_sampling import SMOTE, RandomOverSampler\n",
        "from imblearn.under_sampling import RandomUnderSampler, TomekLinks\n",
        "from imblearn.combine import SMOTETomek\n",
        "from sklearn.impute import SimpleImputer"
      ]
    },
    {
      "cell_type": "markdown",
      "source": [
        "#1. Ramen Dataset"
      ],
      "metadata": {
        "id": "_vGPBC5EEwBi"
      }
    },
    {
      "cell_type": "code",
      "source": [
        "#Task 1: Read data and display first five row\n",
        "df = pd.read_csv(\"https://raw.githubusercontent.com/fenago/dw/refs/heads/main/ramen-ratings.csv\")\n",
        "print(\"First 5 rows of the original DataFrame:\")\n",
        "print(df.head())"
      ],
      "metadata": {
        "colab": {
          "base_uri": "https://localhost:8080/"
        },
        "id": "MsTJqyTZAYlC",
        "outputId": "dab8fffc-4d56-4508-c247-eddbff9c9663"
      },
      "execution_count": 3,
      "outputs": [
        {
          "output_type": "stream",
          "name": "stdout",
          "text": [
            "First 5 rows of the original DataFrame:\n",
            "            Brand                                            Variety Style  \\\n",
            "0       New Touch                          T's Restaurant Tantanmen    Cup   \n",
            "1        Just Way  Noodles Spicy Hot Sesame Spicy Hot Sesame Guan...  Pack   \n",
            "2          Nissin                      Cup Noodles Chicken Vegetable   Cup   \n",
            "3         Wei Lih                      GGE Ramen Snack Tomato Flavor  Pack   \n",
            "4  Ching's Secret                                    Singapore Curry  Pack   \n",
            "\n",
            "  Country  Stars  \n",
            "0   Japan   3.75  \n",
            "1  Taiwan   1.00  \n",
            "2     USA   2.25  \n",
            "3  Taiwan   2.75  \n",
            "4   India   3.75  \n"
          ]
        }
      ]
    },
    {
      "cell_type": "code",
      "source": [
        "#Task 2: Add a column with the average rating per country\n",
        "df['AvgRatingByCountry'] = df.groupby('Country')['Stars'].transform('mean')\n",
        "print(\"\\nFirst 5 rows after adding AvgRatingByCountry column:\")\n",
        "print(df.head())"
      ],
      "metadata": {
        "colab": {
          "base_uri": "https://localhost:8080/"
        },
        "id": "spnr6GVrAYna",
        "outputId": "926c5467-ec89-4b33-cb0c-eeaaa12c0342"
      },
      "execution_count": 5,
      "outputs": [
        {
          "output_type": "stream",
          "name": "stdout",
          "text": [
            "\n",
            "First 5 rows after adding AvgRatingByCountry column:\n",
            "            Brand                                            Variety Style  \\\n",
            "0       New Touch                          T's Restaurant Tantanmen    Cup   \n",
            "1        Just Way  Noodles Spicy Hot Sesame Spicy Hot Sesame Guan...  Pack   \n",
            "2          Nissin                      Cup Noodles Chicken Vegetable   Cup   \n",
            "3         Wei Lih                      GGE Ramen Snack Tomato Flavor  Pack   \n",
            "4  Ching's Secret                                    Singapore Curry  Pack   \n",
            "\n",
            "  Country  Stars  AvgRatingByCountry  \n",
            "0   Japan   3.75            3.981605  \n",
            "1  Taiwan   1.00            3.665402  \n",
            "2     USA   2.25            3.457043  \n",
            "3  Taiwan   2.75            3.665402  \n",
            "4   India   3.75            3.395161  \n"
          ]
        }
      ]
    },
    {
      "cell_type": "code",
      "source": [
        "#Task 3: Group by Country and Style, then take the mean and unstack the Style column\n",
        "country_style_avg = df.groupby(['Country', 'Style'])['Stars'].mean().unstack()\n",
        "print(\"\\nGrouped data by Country and Style, unstacked for Stars:\")\n",
        "print(country_style_avg)"
      ],
      "metadata": {
        "colab": {
          "base_uri": "https://localhost:8080/"
        },
        "id": "nlGpzsW_FWzk",
        "outputId": "8e1cb083-cab0-467c-dd3b-eae61cd732df"
      },
      "execution_count": 6,
      "outputs": [
        {
          "output_type": "stream",
          "name": "stdout",
          "text": [
            "\n",
            "Grouped data by Country and Style, unstacked for Stars:\n",
            "Style          Bar      Bowl   Box  Can       Cup      Pack      Tray\n",
            "Country                                                              \n",
            "Australia      NaN       NaN   NaN  NaN  3.120588  3.200000       NaN\n",
            "Bangladesh     NaN       NaN   NaN  NaN       NaN  3.714286       NaN\n",
            "Brazil         NaN       NaN   NaN  NaN  4.500000  4.250000       NaN\n",
            "Cambodia       NaN       NaN   NaN  NaN       NaN  4.200000       NaN\n",
            "Canada         NaN  2.281250   NaN  NaN  1.970588  2.515625       NaN\n",
            "China          NaN  3.527778   NaN  NaN  2.859375  3.538776  2.583333\n",
            "Colombia       NaN       NaN   NaN  NaN  3.083333  3.500000       NaN\n",
            "Dubai          NaN       NaN   NaN  NaN       NaN  3.583333       NaN\n",
            "Estonia        NaN       NaN   NaN  NaN       NaN  3.500000       NaN\n",
            "Fiji           NaN       NaN   NaN  NaN       NaN  3.875000       NaN\n",
            "Finland        NaN       NaN   NaN  NaN       NaN  3.583333       NaN\n",
            "Germany        NaN       NaN   NaN  NaN  3.704545  3.593750       NaN\n",
            "Ghana          NaN       NaN   NaN  NaN       NaN  3.500000       NaN\n",
            "Holland        NaN       NaN   NaN  NaN       NaN  3.562500       NaN\n",
            "Hong Kong      NaN  3.735000   NaN  NaN  4.039474  3.702239  3.625000\n",
            "Hungary        NaN       NaN   NaN  NaN       NaN  3.611111       NaN\n",
            "India          NaN       NaN   NaN  NaN  2.583333  3.482143       NaN\n",
            "Indonesia      NaN       NaN  4.25  NaN  3.940476  4.091346       NaN\n",
            "Japan          NaN  4.140278  5.00  NaN  3.940816  3.801613  4.375000\n",
            "Malaysia       NaN  4.281250  5.00  NaN  4.011905  4.156452       NaN\n",
            "Mexico         NaN       NaN   NaN  NaN  3.733333  3.725000       NaN\n",
            "Myanmar        NaN       NaN   NaN  NaN  4.083333  3.909091       NaN\n",
            "Nepal          NaN       NaN   NaN  NaN       NaN  3.553571       NaN\n",
            "Netherlands    NaN       NaN   NaN  NaN  1.333333  2.770833       NaN\n",
            "Nigeria        NaN       NaN   NaN  NaN       NaN  1.500000       NaN\n",
            "Pakistan       NaN       NaN   NaN  NaN       NaN  3.000000       NaN\n",
            "Philippines    NaN  3.375000   NaN  NaN  2.937500  3.363636       NaN\n",
            "Poland         NaN       NaN   NaN  NaN       NaN  3.625000       NaN\n",
            "Sarawak        NaN       NaN   NaN  NaN       NaN  4.333333       NaN\n",
            "Singapore      NaN  4.096154   NaN  NaN  3.925926  4.210145       NaN\n",
            "South Korea    NaN  3.865809   NaN  NaN  3.500000  3.857459  3.479167\n",
            "Sweden         NaN       NaN   NaN  NaN       NaN  3.250000       NaN\n",
            "Taiwan         NaN  3.263514   NaN  NaN  3.250000  3.761326  3.333333\n",
            "Thailand       NaN  3.142045   NaN  NaN  3.588542  3.386598  3.750000\n",
            "UK             NaN  3.250000   NaN  NaN  2.978125  3.000000       NaN\n",
            "USA            5.0  3.400000  1.50  3.5  3.376786  3.554688  3.408654\n",
            "United States  NaN       NaN   NaN  NaN       NaN  3.750000       NaN\n",
            "Vietnam        NaN  3.362500   NaN  NaN  2.656250  3.183333  3.750000\n"
          ]
        }
      ]
    },
    {
      "cell_type": "code",
      "source": [
        "#Task 4: Function to shorten Variety names\n",
        "def shorten_variety(variety):\n",
        "    words = variety.split()[:2] + ['...']  # Take first two words and add ellipsis\n",
        "    return ' '.join(words)"
      ],
      "metadata": {
        "id": "sLb9x4LSFW1_"
      },
      "execution_count": 7,
      "outputs": []
    },
    {
      "cell_type": "code",
      "source": [
        "#Task 5: Apply function to create ShortVariety column\n",
        "df['ShortVariety'] = df['Variety'].apply(shorten_variety)\n",
        "print(\"\\nFirst 5 rows after adding ShortVariety column:\")\n",
        "print(df.head())"
      ],
      "metadata": {
        "colab": {
          "base_uri": "https://localhost:8080/"
        },
        "id": "b0_jhQJ-FW4T",
        "outputId": "1551a584-6d63-4514-96a3-99e0fa7df060"
      },
      "execution_count": 8,
      "outputs": [
        {
          "output_type": "stream",
          "name": "stdout",
          "text": [
            "\n",
            "First 5 rows after adding ShortVariety column:\n",
            "            Brand                                            Variety Style  \\\n",
            "0       New Touch                          T's Restaurant Tantanmen    Cup   \n",
            "1        Just Way  Noodles Spicy Hot Sesame Spicy Hot Sesame Guan...  Pack   \n",
            "2          Nissin                      Cup Noodles Chicken Vegetable   Cup   \n",
            "3         Wei Lih                      GGE Ramen Snack Tomato Flavor  Pack   \n",
            "4  Ching's Secret                                    Singapore Curry  Pack   \n",
            "\n",
            "  Country  Stars  AvgRatingByCountry         ShortVariety  \n",
            "0   Japan   3.75            3.981605   T's Restaurant ...  \n",
            "1  Taiwan   1.00            3.665402    Noodles Spicy ...  \n",
            "2     USA   2.25            3.457043      Cup Noodles ...  \n",
            "3  Taiwan   2.75            3.665402        GGE Ramen ...  \n",
            "4   India   3.75            3.395161  Singapore Curry ...  \n"
          ]
        }
      ]
    },
    {
      "cell_type": "code",
      "source": [
        "#Task 6: Set index to Brand and display first five rows\n",
        "df.set_index('Brand', inplace=True)\n",
        "print(\"\\nFirst 5 rows after setting Brand as index:\")\n",
        "print(df.head())"
      ],
      "metadata": {
        "colab": {
          "base_uri": "https://localhost:8080/"
        },
        "id": "xciper2IFW6y",
        "outputId": "b88e7a82-ae45-4fd8-e102-c33e1935ff2d"
      },
      "execution_count": 9,
      "outputs": [
        {
          "output_type": "stream",
          "name": "stdout",
          "text": [
            "\n",
            "First 5 rows after setting Brand as index:\n",
            "                                                          Variety Style  \\\n",
            "Brand                                                                     \n",
            "New Touch                               T's Restaurant Tantanmen    Cup   \n",
            "Just Way        Noodles Spicy Hot Sesame Spicy Hot Sesame Guan...  Pack   \n",
            "Nissin                              Cup Noodles Chicken Vegetable   Cup   \n",
            "Wei Lih                             GGE Ramen Snack Tomato Flavor  Pack   \n",
            "Ching's Secret                                    Singapore Curry  Pack   \n",
            "\n",
            "               Country  Stars  AvgRatingByCountry         ShortVariety  \n",
            "Brand                                                                   \n",
            "New Touch        Japan   3.75            3.981605   T's Restaurant ...  \n",
            "Just Way        Taiwan   1.00            3.665402    Noodles Spicy ...  \n",
            "Nissin             USA   2.25            3.457043      Cup Noodles ...  \n",
            "Wei Lih         Taiwan   2.75            3.665402        GGE Ramen ...  \n",
            "Ching's Secret   India   3.75            3.395161  Singapore Curry ...  \n"
          ]
        }
      ]
    },
    {
      "cell_type": "code",
      "source": [
        "#Task 7: Reset index to default\n",
        "df.reset_index(inplace=True)\n",
        "print(\"\\nFirst 5 rows after resetting the index:\")\n",
        "print(df.head())"
      ],
      "metadata": {
        "colab": {
          "base_uri": "https://localhost:8080/"
        },
        "id": "AgPORTkuIITS",
        "outputId": "e8f53d4c-3ff5-442a-90a3-e05345a20eaf"
      },
      "execution_count": 10,
      "outputs": [
        {
          "output_type": "stream",
          "name": "stdout",
          "text": [
            "\n",
            "First 5 rows after resetting the index:\n",
            "            Brand                                            Variety Style  \\\n",
            "0       New Touch                          T's Restaurant Tantanmen    Cup   \n",
            "1        Just Way  Noodles Spicy Hot Sesame Spicy Hot Sesame Guan...  Pack   \n",
            "2          Nissin                      Cup Noodles Chicken Vegetable   Cup   \n",
            "3         Wei Lih                      GGE Ramen Snack Tomato Flavor  Pack   \n",
            "4  Ching's Secret                                    Singapore Curry  Pack   \n",
            "\n",
            "  Country  Stars  AvgRatingByCountry         ShortVariety  \n",
            "0   Japan   3.75            3.981605   T's Restaurant ...  \n",
            "1  Taiwan   1.00            3.665402    Noodles Spicy ...  \n",
            "2     USA   2.25            3.457043      Cup Noodles ...  \n",
            "3  Taiwan   2.75            3.665402        GGE Ramen ...  \n",
            "4   India   3.75            3.395161  Singapore Curry ...  \n"
          ]
        }
      ]
    },
    {
      "cell_type": "markdown",
      "source": [
        "#2. Avocado Dataset"
      ],
      "metadata": {
        "id": "AMiKACLQIMxt"
      }
    },
    {
      "cell_type": "code",
      "source": [
        "#1. Read the data from the .csv file into a DataFrame and display the first five rows.\n",
        "url = 'https://raw.githubusercontent.com/fenago/dw/refs/heads/main/avocado.csv'\n",
        "df = pd.read_csv(url)\n",
        "print(\"First 5 rows of the original DataFrame:\")\n",
        "print(df.head())"
      ],
      "metadata": {
        "colab": {
          "base_uri": "https://localhost:8080/"
        },
        "id": "WKWWeFZdIMM3",
        "outputId": "a19e7714-2bc9-421e-fa2b-ac9d2a71faf3"
      },
      "execution_count": 21,
      "outputs": [
        {
          "output_type": "stream",
          "name": "stdout",
          "text": [
            "First 5 rows of the original DataFrame:\n",
            "   Unnamed: 0        Date  AveragePrice  Total Volume     4046       4225  \\\n",
            "0           0  2015-12-27          1.33      64236.62  1036.74   54454.85   \n",
            "1           1  2015-12-20          1.35      54876.98   674.28   44638.81   \n",
            "2           2  2015-12-13          0.93     118220.22   794.70  109149.67   \n",
            "3           3  2015-12-06          1.08      78992.15  1132.00   71976.41   \n",
            "4           4  2015-11-29          1.28      51039.60   941.48   43838.39   \n",
            "\n",
            "     4770  Total Bags  Small Bags  Large Bags  XLarge Bags          type  \\\n",
            "0   48.16     8696.87     8603.62       93.25          0.0  conventional   \n",
            "1   58.33     9505.56     9408.07       97.49          0.0  conventional   \n",
            "2  130.50     8145.35     8042.21      103.14          0.0  conventional   \n",
            "3   72.58     5811.16     5677.40      133.76          0.0  conventional   \n",
            "4   75.78     6183.95     5986.26      197.69          0.0  conventional   \n",
            "\n",
            "   year  region  \n",
            "0  2015  Albany  \n",
            "1  2015  Albany  \n",
            "2  2015  Albany  \n",
            "3  2015  Albany  \n",
            "4  2015  Albany  \n"
          ]
        }
      ]
    },
    {
      "cell_type": "code",
      "source": [
        "#2. Change the column names to title case with no spaces.\n",
        "df.columns = [col.replace(' ', '').title() for col in df.columns]\n",
        "print(\"\\nColumn names after standardization:\")\n",
        "print(df.columns)"
      ],
      "metadata": {
        "colab": {
          "base_uri": "https://localhost:8080/"
        },
        "id": "1no8-S2rJMMt",
        "outputId": "75e37dae-2572-4bca-fb94-2dc0fab676b1"
      },
      "execution_count": 23,
      "outputs": [
        {
          "output_type": "stream",
          "name": "stdout",
          "text": [
            "\n",
            "Column names after standardization:\n",
            "Index(['Unnamed:0', 'Date', 'Averageprice', 'Totalvolume', '4046', '4225',\n",
            "       '4770', 'Totalbags', 'Smallbags', 'Largebags', 'Xlargebags', 'Type',\n",
            "       'Year', 'Region'],\n",
            "      dtype='object')\n"
          ]
        }
      ]
    },
    {
      "cell_type": "code",
      "source": [
        "#3. Add a column with the percentage of the bags in the TotalBags column that are extra-large bags.\n",
        "df['ExtraLargeBagPercentage'] = (df['Xlargebags'] / df['Totalbags']) * 100"
      ],
      "metadata": {
        "id": "elgShBcFJQGz"
      },
      "execution_count": 27,
      "outputs": []
    },
    {
      "cell_type": "code",
      "source": [
        "#4. Add a column with the percentage of the bags in the TotalBags column that are large bags.\n",
        "df['LargeBagPercentage'] = (df['Largebags'] / df['Totalbags']) * 100"
      ],
      "metadata": {
        "id": "DwJyyRzlJMQz"
      },
      "execution_count": 30,
      "outputs": []
    },
    {
      "cell_type": "code",
      "source": [
        "#5. Add a column with the percentage of the bags in the TotalBags column that are small bags.\n",
        "df['SmallBagPercentage'] = (df['Smallbags'] / df['Totalbags']) * 100"
      ],
      "metadata": {
        "id": "W3o10hj4JMTW"
      },
      "execution_count": 32,
      "outputs": []
    },
    {
      "cell_type": "code",
      "source": [
        "#6.Display the first five rows of data to view the new columns.\n",
        "print(\"\\nFirst 5 rows after adding new percentage columns:\")\n",
        "print(df.head())"
      ],
      "metadata": {
        "colab": {
          "base_uri": "https://localhost:8080/"
        },
        "id": "SMPnbcK3JMVq",
        "outputId": "6197458d-55ca-4bcc-c982-e883e1e1a914"
      },
      "execution_count": 33,
      "outputs": [
        {
          "output_type": "stream",
          "name": "stdout",
          "text": [
            "\n",
            "First 5 rows after adding new percentage columns:\n",
            "   Unnamed:0        Date  Averageprice  Totalvolume     4046       4225  \\\n",
            "0          0  2015-12-27          1.33     64236.62  1036.74   54454.85   \n",
            "1          1  2015-12-20          1.35     54876.98   674.28   44638.81   \n",
            "2          2  2015-12-13          0.93    118220.22   794.70  109149.67   \n",
            "3          3  2015-12-06          1.08     78992.15  1132.00   71976.41   \n",
            "4          4  2015-11-29          1.28     51039.60   941.48   43838.39   \n",
            "\n",
            "     4770  Totalbags  Smallbags  Largebags  Xlargebags          Type  Year  \\\n",
            "0   48.16    8696.87    8603.62      93.25         0.0  conventional  2015   \n",
            "1   58.33    9505.56    9408.07      97.49         0.0  conventional  2015   \n",
            "2  130.50    8145.35    8042.21     103.14         0.0  conventional  2015   \n",
            "3   72.58    5811.16    5677.40     133.76         0.0  conventional  2015   \n",
            "4   75.78    6183.95    5986.26     197.69         0.0  conventional  2015   \n",
            "\n",
            "   Region  ExtraLargeBagPercentage  LargeBagPercentage  SmallBagPercentage  \n",
            "0  Albany                      0.0            1.072225           98.927775  \n",
            "1  Albany                      0.0            1.025610           98.974390  \n",
            "2  Albany                      0.0            1.266244           98.733756  \n",
            "3  Albany                      0.0            2.301778           97.698222  \n",
            "4  Albany                      0.0            3.196824           96.803176  \n"
          ]
        }
      ]
    },
    {
      "cell_type": "code",
      "source": [
        "#7. Assign the Region, Type, Year, and TotalBags columns to a new DataFrame.\n",
        "new_df = df[['Region', 'Type', 'Year', 'Totalbags']].copy()\n",
        "print(\"\\nNew DataFrame with selected columns:\")\n",
        "print(new_df.head())"
      ],
      "metadata": {
        "colab": {
          "base_uri": "https://localhost:8080/"
        },
        "id": "mbbl0280IIV6",
        "outputId": "838d86d7-2ae2-4579-9231-b7e550d4c906"
      },
      "execution_count": 35,
      "outputs": [
        {
          "output_type": "stream",
          "name": "stdout",
          "text": [
            "\n",
            "New DataFrame with selected columns:\n",
            "   Region          Type  Year  Totalbags\n",
            "0  Albany  conventional  2015    8696.87\n",
            "1  Albany  conventional  2015    9505.56\n",
            "2  Albany  conventional  2015    8145.35\n",
            "3  Albany  conventional  2015    5811.16\n",
            "4  Albany  conventional  2015    6183.95\n"
          ]
        }
      ]
    }
  ]
}